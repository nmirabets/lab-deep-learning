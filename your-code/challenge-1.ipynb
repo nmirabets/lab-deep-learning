{
 "cells": [
  {
   "cell_type": "markdown",
   "metadata": {},
   "source": [
    "# Challenge 1 - Tic Tac Toe\n",
    "\n",
    "In this lab you will perform deep learning analysis on a dataset of playing [Tic Tac Toe](https://en.wikipedia.org/wiki/Tic-tac-toe).\n",
    "\n",
    "There are 9 grids in Tic Tac Toe that are coded as the following picture shows:\n",
    "\n",
    "![Tic Tac Toe Grids](tttboard.jpg)\n",
    "\n",
    "In the first 9 columns of the dataset you can find which marks (`x` or `o`) exist in the grids. If there is no mark in a certain grid, it is labeled as `b`. The last column is `class` which tells you whether Player X (who always moves first in Tic Tac Toe) wins in this configuration. Note that when `class` has the value `False`, it means either Player O wins the game or it ends up as a draw."
   ]
  },
  {
   "cell_type": "markdown",
   "metadata": {},
   "source": [
    "Follow the steps suggested below to conduct a neural network analysis using Tensorflow and Keras. You will build a deep learning model to predict whether Player X wins the game or not.\n",
    "\n",
    "## Step 1: Data Engineering\n",
    "\n",
    "This dataset is almost in the ready-to-use state so you do not need to worry about missing values and so on. Still, some simple data engineering is needed.\n",
    "\n",
    "1. Read `tic-tac-toe.csv` into a dataframe.\n",
    "1. Inspect the dataset. Determine if the dataset is reliable by eyeballing the data.\n",
    "1. Convert the categorical values to numeric in all columns.\n",
    "1. Separate the inputs and output.\n",
    "1. Normalize the input data."
   ]
  },
  {
   "cell_type": "code",
   "execution_count": 14,
   "metadata": {},
   "outputs": [
    {
     "name": "stdout",
     "output_type": "stream",
     "text": [
      "TL\n",
      "x    418\n",
      "o    335\n",
      "b    205\n",
      "Name: count, dtype: int64\n",
      "TM\n",
      "x    378\n",
      "o    330\n",
      "b    250\n",
      "Name: count, dtype: int64\n",
      "TR\n",
      "x    418\n",
      "o    335\n",
      "b    205\n",
      "Name: count, dtype: int64\n",
      "ML\n",
      "x    378\n",
      "o    330\n",
      "b    250\n",
      "Name: count, dtype: int64\n",
      "MM\n",
      "x    458\n",
      "o    340\n",
      "b    160\n",
      "Name: count, dtype: int64\n",
      "MR\n",
      "x    378\n",
      "o    330\n",
      "b    250\n",
      "Name: count, dtype: int64\n",
      "BL\n",
      "x    418\n",
      "o    335\n",
      "b    205\n",
      "Name: count, dtype: int64\n",
      "BM\n",
      "x    378\n",
      "o    330\n",
      "b    250\n",
      "Name: count, dtype: int64\n",
      "BR\n",
      "x    418\n",
      "o    335\n",
      "b    205\n",
      "Name: count, dtype: int64\n",
      "class\n",
      "True     626\n",
      "False    332\n",
      "Name: count, dtype: int64\n"
     ]
    }
   ],
   "source": [
    "import pandas as pd\n",
    "import numpy as np\n",
    "import matplotlib.pyplot as plt\n",
    "\n",
    "df = pd.read_csv(\"tic-tac-toe.csv\")\n",
    "\n",
    "for col in df.columns:\n",
    "    print(df[col].value_counts())"
   ]
  },
  {
   "cell_type": "code",
   "execution_count": 2,
   "metadata": {},
   "outputs": [],
   "source": [
    "# Split X and y\n",
    "X = df.drop(columns='class')\n",
    "y = df['class']"
   ]
  },
  {
   "cell_type": "code",
   "execution_count": 3,
   "metadata": {},
   "outputs": [],
   "source": [
    "# Replace values\n",
    "X.replace({'x': 1, 'o': 0.5, 'b': 0}, inplace = True)\n",
    "y.replace({'True': 1, 'False': 0}, inplace = True)"
   ]
  },
  {
   "cell_type": "code",
   "execution_count": 5,
   "metadata": {},
   "outputs": [
    {
     "data": {
      "text/html": [
       "<div>\n",
       "<style scoped>\n",
       "    .dataframe tbody tr th:only-of-type {\n",
       "        vertical-align: middle;\n",
       "    }\n",
       "\n",
       "    .dataframe tbody tr th {\n",
       "        vertical-align: top;\n",
       "    }\n",
       "\n",
       "    .dataframe thead th {\n",
       "        text-align: right;\n",
       "    }\n",
       "</style>\n",
       "<table border=\"1\" class=\"dataframe\">\n",
       "  <thead>\n",
       "    <tr style=\"text-align: right;\">\n",
       "      <th></th>\n",
       "      <th>TL</th>\n",
       "      <th>TM</th>\n",
       "      <th>TR</th>\n",
       "      <th>ML</th>\n",
       "      <th>MM</th>\n",
       "      <th>MR</th>\n",
       "      <th>BL</th>\n",
       "      <th>BM</th>\n",
       "      <th>BR</th>\n",
       "    </tr>\n",
       "  </thead>\n",
       "  <tbody>\n",
       "    <tr>\n",
       "      <th>0</th>\n",
       "      <td>1.003223</td>\n",
       "      <td>1.084953</td>\n",
       "      <td>1.003223</td>\n",
       "      <td>1.084953</td>\n",
       "      <td>-0.420077</td>\n",
       "      <td>-0.167318</td>\n",
       "      <td>1.003223</td>\n",
       "      <td>-0.167318</td>\n",
       "      <td>-0.286827</td>\n",
       "    </tr>\n",
       "    <tr>\n",
       "      <th>1</th>\n",
       "      <td>1.003223</td>\n",
       "      <td>1.084953</td>\n",
       "      <td>1.003223</td>\n",
       "      <td>1.084953</td>\n",
       "      <td>-0.420077</td>\n",
       "      <td>-0.167318</td>\n",
       "      <td>-0.286827</td>\n",
       "      <td>1.084953</td>\n",
       "      <td>-0.286827</td>\n",
       "    </tr>\n",
       "    <tr>\n",
       "      <th>2</th>\n",
       "      <td>1.003223</td>\n",
       "      <td>1.084953</td>\n",
       "      <td>1.003223</td>\n",
       "      <td>1.084953</td>\n",
       "      <td>-0.420077</td>\n",
       "      <td>-0.167318</td>\n",
       "      <td>-0.286827</td>\n",
       "      <td>-0.167318</td>\n",
       "      <td>1.003223</td>\n",
       "    </tr>\n",
       "    <tr>\n",
       "      <th>3</th>\n",
       "      <td>1.003223</td>\n",
       "      <td>1.084953</td>\n",
       "      <td>1.003223</td>\n",
       "      <td>1.084953</td>\n",
       "      <td>-0.420077</td>\n",
       "      <td>-0.167318</td>\n",
       "      <td>-0.286827</td>\n",
       "      <td>-1.419590</td>\n",
       "      <td>-1.576877</td>\n",
       "    </tr>\n",
       "    <tr>\n",
       "      <th>4</th>\n",
       "      <td>1.003223</td>\n",
       "      <td>1.084953</td>\n",
       "      <td>1.003223</td>\n",
       "      <td>1.084953</td>\n",
       "      <td>-0.420077</td>\n",
       "      <td>-0.167318</td>\n",
       "      <td>-1.576877</td>\n",
       "      <td>-0.167318</td>\n",
       "      <td>-1.576877</td>\n",
       "    </tr>\n",
       "  </tbody>\n",
       "</table>\n",
       "</div>"
      ],
      "text/plain": [
       "         TL        TM        TR        ML        MM        MR        BL  \\\n",
       "0  1.003223  1.084953  1.003223  1.084953 -0.420077 -0.167318  1.003223   \n",
       "1  1.003223  1.084953  1.003223  1.084953 -0.420077 -0.167318 -0.286827   \n",
       "2  1.003223  1.084953  1.003223  1.084953 -0.420077 -0.167318 -0.286827   \n",
       "3  1.003223  1.084953  1.003223  1.084953 -0.420077 -0.167318 -0.286827   \n",
       "4  1.003223  1.084953  1.003223  1.084953 -0.420077 -0.167318 -1.576877   \n",
       "\n",
       "         BM        BR  \n",
       "0 -0.167318 -0.286827  \n",
       "1  1.084953 -0.286827  \n",
       "2 -0.167318  1.003223  \n",
       "3 -1.419590 -1.576877  \n",
       "4 -0.167318 -1.576877  "
      ]
     },
     "execution_count": 5,
     "metadata": {},
     "output_type": "execute_result"
    }
   ],
   "source": [
    "from sklearn.preprocessing import StandardScaler\n",
    "\n",
    "scaler = StandardScaler()\n",
    "\n",
    "scaler.fit(X)\n",
    "\n",
    "X_scaled = scaler.transform(X)\n",
    "\n",
    "X_scaled_df = pd.DataFrame(X_scaled, columns=X.columns)\n",
    "\n",
    "X_scaled_df.head()"
   ]
  },
  {
   "cell_type": "markdown",
   "metadata": {},
   "source": [
    "## Step 2: Build Neural Network\n",
    "\n",
    "To build the neural network, you can refer to your own codes you wrote while following the [Deep Learning with Python, TensorFlow, and Keras tutorial](https://www.youtube.com/watch?v=wQ8BIBpya2k) in the lesson. It's pretty similar to what you will be doing in this lab.\n",
    "\n",
    "1. Split the training and test data.\n",
    "1. Create a `Sequential` model.\n",
    "1. Add several layers to your model. Make sure you use ReLU as the activation function for the middle layers. Use Softmax for the output layer because each output has a single lable and all the label probabilities add up to 1.\n",
    "1. Compile the model using `adam` as the optimizer and `sparse_categorical_crossentropy` as the loss function. For metrics, use `accuracy` for now.\n",
    "1. Fit the training data.\n",
    "1. Evaluate your neural network model with the test data.\n",
    "1. Save your model as `tic-tac-toe.model`."
   ]
  },
  {
   "cell_type": "code",
   "execution_count": 6,
   "metadata": {},
   "outputs": [],
   "source": [
    "from sklearn.model_selection import train_test_split\n",
    "\n",
    "X_train, X_test, y_train, y_test = train_test_split(X_scaled_df, y, test_size=0.3, random_state=42)"
   ]
  },
  {
   "cell_type": "code",
   "execution_count": 7,
   "metadata": {},
   "outputs": [
    {
     "name": "stderr",
     "output_type": "stream",
     "text": [
      "WARNING:absl:At this time, the v2.11+ optimizer `tf.keras.optimizers.Adam` runs slowly on M1/M2 Macs, please use the legacy Keras optimizer instead, located at `tf.keras.optimizers.legacy.Adam`.\n",
      "WARNING:absl:`lr` is deprecated in Keras optimizer, please use `learning_rate` or use the legacy optimizer, e.g.,tf.keras.optimizers.legacy.Adam.\n",
      "WARNING:absl:There is a known slowdown when using v2.11+ Keras optimizers on M1/M2 Macs. Falling back to the legacy Keras optimizer, i.e., `tf.keras.optimizers.legacy.Adam`.\n"
     ]
    },
    {
     "name": "stdout",
     "output_type": "stream",
     "text": [
      "Model: \"sequential\"\n",
      "_________________________________________________________________\n",
      " Layer (type)                Output Shape              Param #   \n",
      "=================================================================\n",
      " dense (Dense)               (None, 9)                 90        \n",
      "                                                                 \n",
      " dense_1 (Dense)             (None, 6)                 60        \n",
      "                                                                 \n",
      " dense_2 (Dense)             (None, 2)                 14        \n",
      "                                                                 \n",
      "=================================================================\n",
      "Total params: 164 (656.00 Byte)\n",
      "Trainable params: 164 (656.00 Byte)\n",
      "Non-trainable params: 0 (0.00 Byte)\n",
      "_________________________________________________________________\n"
     ]
    }
   ],
   "source": [
    "import tensorflow as tf\n",
    "from keras import Sequential\n",
    "from keras.layers import Dense, Dropout\n",
    "from keras.initializers import RandomNormal\n",
    "from keras.regularizers import l2\n",
    "from keras.optimizers import Adam\n",
    "\n",
    "initializer = RandomNormal(mean=0., stddev=1., seed=14)\n",
    "\n",
    "model = Sequential()\n",
    "\n",
    "model.add(Dense(units = 9, input_dim = X_train.shape[1], activation='relu', kernel_initializer=initializer))\n",
    "\n",
    "model.add(Dense(units = 6, activation='relu', kernel_initializer=initializer))\n",
    "\n",
    "model.add(Dense(units = 2, activation='softmax', kernel_initializer=initializer))\n",
    "\n",
    "\n",
    "# Step 3: Compile the model\n",
    "optimizer = Adam(lr=0.001)  # You can adjust learning rate and other parameters in Adam() if needed\n",
    "model.compile(optimizer=optimizer,\n",
    "              loss='sparse_categorical_crossentropy', # Error metric to minimize.\n",
    "              metrics=['accuracy'] # Error metrics to monitor\n",
    "              )\n",
    "\n",
    "model.summary()\n"
   ]
  },
  {
   "cell_type": "code",
   "execution_count": 8,
   "metadata": {},
   "outputs": [],
   "source": [
    "from keras.callbacks import ModelCheckpoint\n",
    "# Save model\n",
    "file_path = './tic-tac-toe'\n",
    "checkpoint = ModelCheckpoint(\n",
    "    filepath=file_path, # Where to save the checkpoint.\n",
    "    save_freq='epoch', # How often the checkpoint file will be saved.\n",
    "    save_weights_only=False, # Wether or not save only the weitgths of each neuron.\n",
    "    verbose=1 # To display the progress\n",
    ")\n"
   ]
  },
  {
   "cell_type": "code",
   "execution_count": 9,
   "metadata": {},
   "outputs": [
    {
     "name": "stdout",
     "output_type": "stream",
     "text": [
      "\n",
      "Epoch 1: saving model to ./tic-tac-toe\n",
      "INFO:tensorflow:Assets written to: ./tic-tac-toe/assets\n"
     ]
    },
    {
     "name": "stderr",
     "output_type": "stream",
     "text": [
      "INFO:tensorflow:Assets written to: ./tic-tac-toe/assets\n"
     ]
    },
    {
     "name": "stdout",
     "output_type": "stream",
     "text": [
      "\n",
      "Epoch 2: saving model to ./tic-tac-toe\n",
      "INFO:tensorflow:Assets written to: ./tic-tac-toe/assets\n"
     ]
    },
    {
     "name": "stderr",
     "output_type": "stream",
     "text": [
      "INFO:tensorflow:Assets written to: ./tic-tac-toe/assets\n"
     ]
    },
    {
     "name": "stdout",
     "output_type": "stream",
     "text": [
      "\n",
      "Epoch 3: saving model to ./tic-tac-toe\n",
      "INFO:tensorflow:Assets written to: ./tic-tac-toe/assets\n"
     ]
    },
    {
     "name": "stderr",
     "output_type": "stream",
     "text": [
      "INFO:tensorflow:Assets written to: ./tic-tac-toe/assets\n"
     ]
    },
    {
     "name": "stdout",
     "output_type": "stream",
     "text": [
      "\n",
      "Epoch 4: saving model to ./tic-tac-toe\n",
      "INFO:tensorflow:Assets written to: ./tic-tac-toe/assets\n"
     ]
    },
    {
     "name": "stderr",
     "output_type": "stream",
     "text": [
      "INFO:tensorflow:Assets written to: ./tic-tac-toe/assets\n"
     ]
    },
    {
     "name": "stdout",
     "output_type": "stream",
     "text": [
      "\n",
      "Epoch 5: saving model to ./tic-tac-toe\n",
      "INFO:tensorflow:Assets written to: ./tic-tac-toe/assets\n"
     ]
    },
    {
     "name": "stderr",
     "output_type": "stream",
     "text": [
      "INFO:tensorflow:Assets written to: ./tic-tac-toe/assets\n"
     ]
    },
    {
     "name": "stdout",
     "output_type": "stream",
     "text": [
      "\n",
      "Epoch 6: saving model to ./tic-tac-toe\n",
      "INFO:tensorflow:Assets written to: ./tic-tac-toe/assets\n"
     ]
    },
    {
     "name": "stderr",
     "output_type": "stream",
     "text": [
      "INFO:tensorflow:Assets written to: ./tic-tac-toe/assets\n"
     ]
    },
    {
     "name": "stdout",
     "output_type": "stream",
     "text": [
      "\n",
      "Epoch 7: saving model to ./tic-tac-toe\n",
      "INFO:tensorflow:Assets written to: ./tic-tac-toe/assets\n"
     ]
    },
    {
     "name": "stderr",
     "output_type": "stream",
     "text": [
      "INFO:tensorflow:Assets written to: ./tic-tac-toe/assets\n"
     ]
    },
    {
     "name": "stdout",
     "output_type": "stream",
     "text": [
      "\n",
      "Epoch 8: saving model to ./tic-tac-toe\n",
      "INFO:tensorflow:Assets written to: ./tic-tac-toe/assets\n"
     ]
    },
    {
     "name": "stderr",
     "output_type": "stream",
     "text": [
      "INFO:tensorflow:Assets written to: ./tic-tac-toe/assets\n"
     ]
    },
    {
     "name": "stdout",
     "output_type": "stream",
     "text": [
      "\n",
      "Epoch 9: saving model to ./tic-tac-toe\n",
      "INFO:tensorflow:Assets written to: ./tic-tac-toe/assets\n"
     ]
    },
    {
     "name": "stderr",
     "output_type": "stream",
     "text": [
      "INFO:tensorflow:Assets written to: ./tic-tac-toe/assets\n"
     ]
    },
    {
     "name": "stdout",
     "output_type": "stream",
     "text": [
      "\n",
      "Epoch 10: saving model to ./tic-tac-toe\n",
      "INFO:tensorflow:Assets written to: ./tic-tac-toe/assets\n"
     ]
    },
    {
     "name": "stderr",
     "output_type": "stream",
     "text": [
      "INFO:tensorflow:Assets written to: ./tic-tac-toe/assets\n"
     ]
    },
    {
     "name": "stdout",
     "output_type": "stream",
     "text": [
      "\n",
      "Epoch 11: saving model to ./tic-tac-toe\n",
      "INFO:tensorflow:Assets written to: ./tic-tac-toe/assets\n"
     ]
    },
    {
     "name": "stderr",
     "output_type": "stream",
     "text": [
      "INFO:tensorflow:Assets written to: ./tic-tac-toe/assets\n"
     ]
    },
    {
     "name": "stdout",
     "output_type": "stream",
     "text": [
      "\n",
      "Epoch 12: saving model to ./tic-tac-toe\n",
      "INFO:tensorflow:Assets written to: ./tic-tac-toe/assets\n"
     ]
    },
    {
     "name": "stderr",
     "output_type": "stream",
     "text": [
      "INFO:tensorflow:Assets written to: ./tic-tac-toe/assets\n"
     ]
    },
    {
     "name": "stdout",
     "output_type": "stream",
     "text": [
      "\n",
      "Epoch 13: saving model to ./tic-tac-toe\n",
      "INFO:tensorflow:Assets written to: ./tic-tac-toe/assets\n"
     ]
    },
    {
     "name": "stderr",
     "output_type": "stream",
     "text": [
      "INFO:tensorflow:Assets written to: ./tic-tac-toe/assets\n"
     ]
    },
    {
     "name": "stdout",
     "output_type": "stream",
     "text": [
      "\n",
      "Epoch 14: saving model to ./tic-tac-toe\n",
      "INFO:tensorflow:Assets written to: ./tic-tac-toe/assets\n"
     ]
    },
    {
     "name": "stderr",
     "output_type": "stream",
     "text": [
      "INFO:tensorflow:Assets written to: ./tic-tac-toe/assets\n"
     ]
    },
    {
     "name": "stdout",
     "output_type": "stream",
     "text": [
      "\n",
      "Epoch 15: saving model to ./tic-tac-toe\n",
      "INFO:tensorflow:Assets written to: ./tic-tac-toe/assets\n"
     ]
    },
    {
     "name": "stderr",
     "output_type": "stream",
     "text": [
      "INFO:tensorflow:Assets written to: ./tic-tac-toe/assets\n"
     ]
    },
    {
     "name": "stdout",
     "output_type": "stream",
     "text": [
      "\n",
      "Epoch 16: saving model to ./tic-tac-toe\n",
      "INFO:tensorflow:Assets written to: ./tic-tac-toe/assets\n"
     ]
    },
    {
     "name": "stderr",
     "output_type": "stream",
     "text": [
      "INFO:tensorflow:Assets written to: ./tic-tac-toe/assets\n"
     ]
    },
    {
     "name": "stdout",
     "output_type": "stream",
     "text": [
      "\n",
      "Epoch 17: saving model to ./tic-tac-toe\n",
      "INFO:tensorflow:Assets written to: ./tic-tac-toe/assets\n"
     ]
    },
    {
     "name": "stderr",
     "output_type": "stream",
     "text": [
      "INFO:tensorflow:Assets written to: ./tic-tac-toe/assets\n"
     ]
    },
    {
     "name": "stdout",
     "output_type": "stream",
     "text": [
      "\n",
      "Epoch 18: saving model to ./tic-tac-toe\n",
      "INFO:tensorflow:Assets written to: ./tic-tac-toe/assets\n"
     ]
    },
    {
     "name": "stderr",
     "output_type": "stream",
     "text": [
      "INFO:tensorflow:Assets written to: ./tic-tac-toe/assets\n"
     ]
    },
    {
     "name": "stdout",
     "output_type": "stream",
     "text": [
      "\n",
      "Epoch 19: saving model to ./tic-tac-toe\n",
      "INFO:tensorflow:Assets written to: ./tic-tac-toe/assets\n"
     ]
    },
    {
     "name": "stderr",
     "output_type": "stream",
     "text": [
      "INFO:tensorflow:Assets written to: ./tic-tac-toe/assets\n"
     ]
    },
    {
     "name": "stdout",
     "output_type": "stream",
     "text": [
      "\n",
      "Epoch 20: saving model to ./tic-tac-toe\n",
      "INFO:tensorflow:Assets written to: ./tic-tac-toe/assets\n"
     ]
    },
    {
     "name": "stderr",
     "output_type": "stream",
     "text": [
      "INFO:tensorflow:Assets written to: ./tic-tac-toe/assets\n"
     ]
    },
    {
     "name": "stdout",
     "output_type": "stream",
     "text": [
      "\n",
      "Epoch 21: saving model to ./tic-tac-toe\n",
      "INFO:tensorflow:Assets written to: ./tic-tac-toe/assets\n"
     ]
    },
    {
     "name": "stderr",
     "output_type": "stream",
     "text": [
      "INFO:tensorflow:Assets written to: ./tic-tac-toe/assets\n"
     ]
    },
    {
     "name": "stdout",
     "output_type": "stream",
     "text": [
      "\n",
      "Epoch 22: saving model to ./tic-tac-toe\n",
      "INFO:tensorflow:Assets written to: ./tic-tac-toe/assets\n"
     ]
    },
    {
     "name": "stderr",
     "output_type": "stream",
     "text": [
      "INFO:tensorflow:Assets written to: ./tic-tac-toe/assets\n"
     ]
    },
    {
     "name": "stdout",
     "output_type": "stream",
     "text": [
      "\n",
      "Epoch 23: saving model to ./tic-tac-toe\n",
      "INFO:tensorflow:Assets written to: ./tic-tac-toe/assets\n"
     ]
    },
    {
     "name": "stderr",
     "output_type": "stream",
     "text": [
      "INFO:tensorflow:Assets written to: ./tic-tac-toe/assets\n"
     ]
    },
    {
     "name": "stdout",
     "output_type": "stream",
     "text": [
      "\n",
      "Epoch 24: saving model to ./tic-tac-toe\n",
      "INFO:tensorflow:Assets written to: ./tic-tac-toe/assets\n"
     ]
    },
    {
     "name": "stderr",
     "output_type": "stream",
     "text": [
      "INFO:tensorflow:Assets written to: ./tic-tac-toe/assets\n"
     ]
    },
    {
     "name": "stdout",
     "output_type": "stream",
     "text": [
      "\n",
      "Epoch 25: saving model to ./tic-tac-toe\n",
      "INFO:tensorflow:Assets written to: ./tic-tac-toe/assets\n"
     ]
    },
    {
     "name": "stderr",
     "output_type": "stream",
     "text": [
      "INFO:tensorflow:Assets written to: ./tic-tac-toe/assets\n"
     ]
    },
    {
     "name": "stdout",
     "output_type": "stream",
     "text": [
      "\n",
      "Epoch 26: saving model to ./tic-tac-toe\n",
      "INFO:tensorflow:Assets written to: ./tic-tac-toe/assets\n"
     ]
    },
    {
     "name": "stderr",
     "output_type": "stream",
     "text": [
      "INFO:tensorflow:Assets written to: ./tic-tac-toe/assets\n"
     ]
    },
    {
     "name": "stdout",
     "output_type": "stream",
     "text": [
      "\n",
      "Epoch 27: saving model to ./tic-tac-toe\n",
      "INFO:tensorflow:Assets written to: ./tic-tac-toe/assets\n"
     ]
    },
    {
     "name": "stderr",
     "output_type": "stream",
     "text": [
      "INFO:tensorflow:Assets written to: ./tic-tac-toe/assets\n"
     ]
    },
    {
     "name": "stdout",
     "output_type": "stream",
     "text": [
      "\n",
      "Epoch 28: saving model to ./tic-tac-toe\n",
      "INFO:tensorflow:Assets written to: ./tic-tac-toe/assets\n"
     ]
    },
    {
     "name": "stderr",
     "output_type": "stream",
     "text": [
      "INFO:tensorflow:Assets written to: ./tic-tac-toe/assets\n"
     ]
    },
    {
     "name": "stdout",
     "output_type": "stream",
     "text": [
      "\n",
      "Epoch 29: saving model to ./tic-tac-toe\n",
      "INFO:tensorflow:Assets written to: ./tic-tac-toe/assets\n"
     ]
    },
    {
     "name": "stderr",
     "output_type": "stream",
     "text": [
      "INFO:tensorflow:Assets written to: ./tic-tac-toe/assets\n"
     ]
    },
    {
     "name": "stdout",
     "output_type": "stream",
     "text": [
      "\n",
      "Epoch 30: saving model to ./tic-tac-toe\n",
      "INFO:tensorflow:Assets written to: ./tic-tac-toe/assets\n"
     ]
    },
    {
     "name": "stderr",
     "output_type": "stream",
     "text": [
      "INFO:tensorflow:Assets written to: ./tic-tac-toe/assets\n"
     ]
    },
    {
     "name": "stdout",
     "output_type": "stream",
     "text": [
      "\n",
      "Epoch 31: saving model to ./tic-tac-toe\n",
      "INFO:tensorflow:Assets written to: ./tic-tac-toe/assets\n"
     ]
    },
    {
     "name": "stderr",
     "output_type": "stream",
     "text": [
      "INFO:tensorflow:Assets written to: ./tic-tac-toe/assets\n"
     ]
    },
    {
     "name": "stdout",
     "output_type": "stream",
     "text": [
      "\n",
      "Epoch 32: saving model to ./tic-tac-toe\n",
      "INFO:tensorflow:Assets written to: ./tic-tac-toe/assets\n"
     ]
    },
    {
     "name": "stderr",
     "output_type": "stream",
     "text": [
      "INFO:tensorflow:Assets written to: ./tic-tac-toe/assets\n"
     ]
    },
    {
     "name": "stdout",
     "output_type": "stream",
     "text": [
      "\n",
      "Epoch 33: saving model to ./tic-tac-toe\n",
      "INFO:tensorflow:Assets written to: ./tic-tac-toe/assets\n"
     ]
    },
    {
     "name": "stderr",
     "output_type": "stream",
     "text": [
      "INFO:tensorflow:Assets written to: ./tic-tac-toe/assets\n"
     ]
    },
    {
     "name": "stdout",
     "output_type": "stream",
     "text": [
      "\n",
      "Epoch 34: saving model to ./tic-tac-toe\n",
      "INFO:tensorflow:Assets written to: ./tic-tac-toe/assets\n"
     ]
    },
    {
     "name": "stderr",
     "output_type": "stream",
     "text": [
      "INFO:tensorflow:Assets written to: ./tic-tac-toe/assets\n"
     ]
    },
    {
     "name": "stdout",
     "output_type": "stream",
     "text": [
      "\n",
      "Epoch 35: saving model to ./tic-tac-toe\n",
      "INFO:tensorflow:Assets written to: ./tic-tac-toe/assets\n"
     ]
    },
    {
     "name": "stderr",
     "output_type": "stream",
     "text": [
      "INFO:tensorflow:Assets written to: ./tic-tac-toe/assets\n"
     ]
    },
    {
     "name": "stdout",
     "output_type": "stream",
     "text": [
      "\n",
      "Epoch 36: saving model to ./tic-tac-toe\n",
      "INFO:tensorflow:Assets written to: ./tic-tac-toe/assets\n"
     ]
    },
    {
     "name": "stderr",
     "output_type": "stream",
     "text": [
      "INFO:tensorflow:Assets written to: ./tic-tac-toe/assets\n"
     ]
    },
    {
     "name": "stdout",
     "output_type": "stream",
     "text": [
      "\n",
      "Epoch 37: saving model to ./tic-tac-toe\n",
      "INFO:tensorflow:Assets written to: ./tic-tac-toe/assets\n"
     ]
    },
    {
     "name": "stderr",
     "output_type": "stream",
     "text": [
      "INFO:tensorflow:Assets written to: ./tic-tac-toe/assets\n"
     ]
    },
    {
     "name": "stdout",
     "output_type": "stream",
     "text": [
      "\n",
      "Epoch 38: saving model to ./tic-tac-toe\n",
      "INFO:tensorflow:Assets written to: ./tic-tac-toe/assets\n"
     ]
    },
    {
     "name": "stderr",
     "output_type": "stream",
     "text": [
      "INFO:tensorflow:Assets written to: ./tic-tac-toe/assets\n"
     ]
    },
    {
     "name": "stdout",
     "output_type": "stream",
     "text": [
      "\n",
      "Epoch 39: saving model to ./tic-tac-toe\n",
      "INFO:tensorflow:Assets written to: ./tic-tac-toe/assets\n"
     ]
    },
    {
     "name": "stderr",
     "output_type": "stream",
     "text": [
      "INFO:tensorflow:Assets written to: ./tic-tac-toe/assets\n"
     ]
    },
    {
     "name": "stdout",
     "output_type": "stream",
     "text": [
      "\n",
      "Epoch 40: saving model to ./tic-tac-toe\n",
      "INFO:tensorflow:Assets written to: ./tic-tac-toe/assets\n"
     ]
    },
    {
     "name": "stderr",
     "output_type": "stream",
     "text": [
      "INFO:tensorflow:Assets written to: ./tic-tac-toe/assets\n"
     ]
    },
    {
     "name": "stdout",
     "output_type": "stream",
     "text": [
      "\n",
      "Epoch 41: saving model to ./tic-tac-toe\n",
      "INFO:tensorflow:Assets written to: ./tic-tac-toe/assets\n"
     ]
    },
    {
     "name": "stderr",
     "output_type": "stream",
     "text": [
      "INFO:tensorflow:Assets written to: ./tic-tac-toe/assets\n"
     ]
    },
    {
     "name": "stdout",
     "output_type": "stream",
     "text": [
      "\n",
      "Epoch 42: saving model to ./tic-tac-toe\n",
      "INFO:tensorflow:Assets written to: ./tic-tac-toe/assets\n"
     ]
    },
    {
     "name": "stderr",
     "output_type": "stream",
     "text": [
      "INFO:tensorflow:Assets written to: ./tic-tac-toe/assets\n"
     ]
    },
    {
     "name": "stdout",
     "output_type": "stream",
     "text": [
      "\n",
      "Epoch 43: saving model to ./tic-tac-toe\n",
      "INFO:tensorflow:Assets written to: ./tic-tac-toe/assets\n"
     ]
    },
    {
     "name": "stderr",
     "output_type": "stream",
     "text": [
      "INFO:tensorflow:Assets written to: ./tic-tac-toe/assets\n"
     ]
    },
    {
     "name": "stdout",
     "output_type": "stream",
     "text": [
      "\n",
      "Epoch 44: saving model to ./tic-tac-toe\n",
      "INFO:tensorflow:Assets written to: ./tic-tac-toe/assets\n"
     ]
    },
    {
     "name": "stderr",
     "output_type": "stream",
     "text": [
      "INFO:tensorflow:Assets written to: ./tic-tac-toe/assets\n"
     ]
    },
    {
     "name": "stdout",
     "output_type": "stream",
     "text": [
      "\n",
      "Epoch 45: saving model to ./tic-tac-toe\n",
      "INFO:tensorflow:Assets written to: ./tic-tac-toe/assets\n"
     ]
    },
    {
     "name": "stderr",
     "output_type": "stream",
     "text": [
      "INFO:tensorflow:Assets written to: ./tic-tac-toe/assets\n"
     ]
    },
    {
     "name": "stdout",
     "output_type": "stream",
     "text": [
      "\n",
      "Epoch 46: saving model to ./tic-tac-toe\n",
      "INFO:tensorflow:Assets written to: ./tic-tac-toe/assets\n"
     ]
    },
    {
     "name": "stderr",
     "output_type": "stream",
     "text": [
      "INFO:tensorflow:Assets written to: ./tic-tac-toe/assets\n"
     ]
    },
    {
     "name": "stdout",
     "output_type": "stream",
     "text": [
      "\n",
      "Epoch 47: saving model to ./tic-tac-toe\n",
      "INFO:tensorflow:Assets written to: ./tic-tac-toe/assets\n"
     ]
    },
    {
     "name": "stderr",
     "output_type": "stream",
     "text": [
      "INFO:tensorflow:Assets written to: ./tic-tac-toe/assets\n"
     ]
    },
    {
     "name": "stdout",
     "output_type": "stream",
     "text": [
      "\n",
      "Epoch 48: saving model to ./tic-tac-toe\n",
      "INFO:tensorflow:Assets written to: ./tic-tac-toe/assets\n"
     ]
    },
    {
     "name": "stderr",
     "output_type": "stream",
     "text": [
      "INFO:tensorflow:Assets written to: ./tic-tac-toe/assets\n"
     ]
    },
    {
     "name": "stdout",
     "output_type": "stream",
     "text": [
      "\n",
      "Epoch 49: saving model to ./tic-tac-toe\n",
      "INFO:tensorflow:Assets written to: ./tic-tac-toe/assets\n"
     ]
    },
    {
     "name": "stderr",
     "output_type": "stream",
     "text": [
      "INFO:tensorflow:Assets written to: ./tic-tac-toe/assets\n"
     ]
    },
    {
     "name": "stdout",
     "output_type": "stream",
     "text": [
      "\n",
      "Epoch 50: saving model to ./tic-tac-toe\n",
      "INFO:tensorflow:Assets written to: ./tic-tac-toe/assets\n"
     ]
    },
    {
     "name": "stderr",
     "output_type": "stream",
     "text": [
      "INFO:tensorflow:Assets written to: ./tic-tac-toe/assets\n"
     ]
    },
    {
     "name": "stdout",
     "output_type": "stream",
     "text": [
      "\n",
      "Epoch 51: saving model to ./tic-tac-toe\n",
      "INFO:tensorflow:Assets written to: ./tic-tac-toe/assets\n"
     ]
    },
    {
     "name": "stderr",
     "output_type": "stream",
     "text": [
      "INFO:tensorflow:Assets written to: ./tic-tac-toe/assets\n"
     ]
    },
    {
     "name": "stdout",
     "output_type": "stream",
     "text": [
      "\n",
      "Epoch 52: saving model to ./tic-tac-toe\n",
      "INFO:tensorflow:Assets written to: ./tic-tac-toe/assets\n"
     ]
    },
    {
     "name": "stderr",
     "output_type": "stream",
     "text": [
      "INFO:tensorflow:Assets written to: ./tic-tac-toe/assets\n"
     ]
    },
    {
     "name": "stdout",
     "output_type": "stream",
     "text": [
      "\n",
      "Epoch 53: saving model to ./tic-tac-toe\n",
      "INFO:tensorflow:Assets written to: ./tic-tac-toe/assets\n"
     ]
    },
    {
     "name": "stderr",
     "output_type": "stream",
     "text": [
      "INFO:tensorflow:Assets written to: ./tic-tac-toe/assets\n"
     ]
    },
    {
     "name": "stdout",
     "output_type": "stream",
     "text": [
      "\n",
      "Epoch 54: saving model to ./tic-tac-toe\n",
      "INFO:tensorflow:Assets written to: ./tic-tac-toe/assets\n"
     ]
    },
    {
     "name": "stderr",
     "output_type": "stream",
     "text": [
      "INFO:tensorflow:Assets written to: ./tic-tac-toe/assets\n"
     ]
    },
    {
     "name": "stdout",
     "output_type": "stream",
     "text": [
      "\n",
      "Epoch 55: saving model to ./tic-tac-toe\n",
      "INFO:tensorflow:Assets written to: ./tic-tac-toe/assets\n"
     ]
    },
    {
     "name": "stderr",
     "output_type": "stream",
     "text": [
      "INFO:tensorflow:Assets written to: ./tic-tac-toe/assets\n"
     ]
    },
    {
     "name": "stdout",
     "output_type": "stream",
     "text": [
      "\n",
      "Epoch 56: saving model to ./tic-tac-toe\n",
      "INFO:tensorflow:Assets written to: ./tic-tac-toe/assets\n"
     ]
    },
    {
     "name": "stderr",
     "output_type": "stream",
     "text": [
      "INFO:tensorflow:Assets written to: ./tic-tac-toe/assets\n"
     ]
    },
    {
     "name": "stdout",
     "output_type": "stream",
     "text": [
      "\n",
      "Epoch 57: saving model to ./tic-tac-toe\n",
      "INFO:tensorflow:Assets written to: ./tic-tac-toe/assets\n"
     ]
    },
    {
     "name": "stderr",
     "output_type": "stream",
     "text": [
      "INFO:tensorflow:Assets written to: ./tic-tac-toe/assets\n"
     ]
    },
    {
     "name": "stdout",
     "output_type": "stream",
     "text": [
      "\n",
      "Epoch 58: saving model to ./tic-tac-toe\n",
      "INFO:tensorflow:Assets written to: ./tic-tac-toe/assets\n"
     ]
    },
    {
     "name": "stderr",
     "output_type": "stream",
     "text": [
      "INFO:tensorflow:Assets written to: ./tic-tac-toe/assets\n"
     ]
    },
    {
     "name": "stdout",
     "output_type": "stream",
     "text": [
      "\n",
      "Epoch 59: saving model to ./tic-tac-toe\n",
      "INFO:tensorflow:Assets written to: ./tic-tac-toe/assets\n"
     ]
    },
    {
     "name": "stderr",
     "output_type": "stream",
     "text": [
      "INFO:tensorflow:Assets written to: ./tic-tac-toe/assets\n"
     ]
    },
    {
     "name": "stdout",
     "output_type": "stream",
     "text": [
      "\n",
      "Epoch 60: saving model to ./tic-tac-toe\n",
      "INFO:tensorflow:Assets written to: ./tic-tac-toe/assets\n"
     ]
    },
    {
     "name": "stderr",
     "output_type": "stream",
     "text": [
      "INFO:tensorflow:Assets written to: ./tic-tac-toe/assets\n"
     ]
    },
    {
     "name": "stdout",
     "output_type": "stream",
     "text": [
      "\n",
      "Epoch 61: saving model to ./tic-tac-toe\n",
      "INFO:tensorflow:Assets written to: ./tic-tac-toe/assets\n"
     ]
    },
    {
     "name": "stderr",
     "output_type": "stream",
     "text": [
      "INFO:tensorflow:Assets written to: ./tic-tac-toe/assets\n"
     ]
    },
    {
     "name": "stdout",
     "output_type": "stream",
     "text": [
      "\n",
      "Epoch 62: saving model to ./tic-tac-toe\n",
      "INFO:tensorflow:Assets written to: ./tic-tac-toe/assets\n"
     ]
    },
    {
     "name": "stderr",
     "output_type": "stream",
     "text": [
      "INFO:tensorflow:Assets written to: ./tic-tac-toe/assets\n"
     ]
    },
    {
     "name": "stdout",
     "output_type": "stream",
     "text": [
      "\n",
      "Epoch 63: saving model to ./tic-tac-toe\n",
      "INFO:tensorflow:Assets written to: ./tic-tac-toe/assets\n"
     ]
    },
    {
     "name": "stderr",
     "output_type": "stream",
     "text": [
      "INFO:tensorflow:Assets written to: ./tic-tac-toe/assets\n"
     ]
    },
    {
     "name": "stdout",
     "output_type": "stream",
     "text": [
      "\n",
      "Epoch 64: saving model to ./tic-tac-toe\n",
      "INFO:tensorflow:Assets written to: ./tic-tac-toe/assets\n"
     ]
    },
    {
     "name": "stderr",
     "output_type": "stream",
     "text": [
      "INFO:tensorflow:Assets written to: ./tic-tac-toe/assets\n"
     ]
    },
    {
     "name": "stdout",
     "output_type": "stream",
     "text": [
      "\n",
      "Epoch 65: saving model to ./tic-tac-toe\n",
      "INFO:tensorflow:Assets written to: ./tic-tac-toe/assets\n"
     ]
    },
    {
     "name": "stderr",
     "output_type": "stream",
     "text": [
      "INFO:tensorflow:Assets written to: ./tic-tac-toe/assets\n"
     ]
    },
    {
     "name": "stdout",
     "output_type": "stream",
     "text": [
      "\n",
      "Epoch 66: saving model to ./tic-tac-toe\n",
      "INFO:tensorflow:Assets written to: ./tic-tac-toe/assets\n"
     ]
    },
    {
     "name": "stderr",
     "output_type": "stream",
     "text": [
      "INFO:tensorflow:Assets written to: ./tic-tac-toe/assets\n"
     ]
    },
    {
     "name": "stdout",
     "output_type": "stream",
     "text": [
      "\n",
      "Epoch 67: saving model to ./tic-tac-toe\n",
      "INFO:tensorflow:Assets written to: ./tic-tac-toe/assets\n"
     ]
    },
    {
     "name": "stderr",
     "output_type": "stream",
     "text": [
      "INFO:tensorflow:Assets written to: ./tic-tac-toe/assets\n"
     ]
    },
    {
     "name": "stdout",
     "output_type": "stream",
     "text": [
      "\n",
      "Epoch 68: saving model to ./tic-tac-toe\n",
      "INFO:tensorflow:Assets written to: ./tic-tac-toe/assets\n"
     ]
    },
    {
     "name": "stderr",
     "output_type": "stream",
     "text": [
      "INFO:tensorflow:Assets written to: ./tic-tac-toe/assets\n"
     ]
    },
    {
     "name": "stdout",
     "output_type": "stream",
     "text": [
      "\n",
      "Epoch 69: saving model to ./tic-tac-toe\n",
      "INFO:tensorflow:Assets written to: ./tic-tac-toe/assets\n"
     ]
    },
    {
     "name": "stderr",
     "output_type": "stream",
     "text": [
      "INFO:tensorflow:Assets written to: ./tic-tac-toe/assets\n"
     ]
    },
    {
     "name": "stdout",
     "output_type": "stream",
     "text": [
      "\n",
      "Epoch 70: saving model to ./tic-tac-toe\n",
      "INFO:tensorflow:Assets written to: ./tic-tac-toe/assets\n"
     ]
    },
    {
     "name": "stderr",
     "output_type": "stream",
     "text": [
      "INFO:tensorflow:Assets written to: ./tic-tac-toe/assets\n"
     ]
    },
    {
     "name": "stdout",
     "output_type": "stream",
     "text": [
      "\n",
      "Epoch 71: saving model to ./tic-tac-toe\n",
      "INFO:tensorflow:Assets written to: ./tic-tac-toe/assets\n"
     ]
    },
    {
     "name": "stderr",
     "output_type": "stream",
     "text": [
      "INFO:tensorflow:Assets written to: ./tic-tac-toe/assets\n"
     ]
    },
    {
     "name": "stdout",
     "output_type": "stream",
     "text": [
      "\n",
      "Epoch 72: saving model to ./tic-tac-toe\n",
      "INFO:tensorflow:Assets written to: ./tic-tac-toe/assets\n"
     ]
    },
    {
     "name": "stderr",
     "output_type": "stream",
     "text": [
      "INFO:tensorflow:Assets written to: ./tic-tac-toe/assets\n"
     ]
    },
    {
     "name": "stdout",
     "output_type": "stream",
     "text": [
      "\n",
      "Epoch 73: saving model to ./tic-tac-toe\n",
      "INFO:tensorflow:Assets written to: ./tic-tac-toe/assets\n"
     ]
    },
    {
     "name": "stderr",
     "output_type": "stream",
     "text": [
      "INFO:tensorflow:Assets written to: ./tic-tac-toe/assets\n"
     ]
    },
    {
     "name": "stdout",
     "output_type": "stream",
     "text": [
      "\n",
      "Epoch 74: saving model to ./tic-tac-toe\n",
      "INFO:tensorflow:Assets written to: ./tic-tac-toe/assets\n"
     ]
    },
    {
     "name": "stderr",
     "output_type": "stream",
     "text": [
      "INFO:tensorflow:Assets written to: ./tic-tac-toe/assets\n"
     ]
    },
    {
     "name": "stdout",
     "output_type": "stream",
     "text": [
      "\n",
      "Epoch 75: saving model to ./tic-tac-toe\n",
      "INFO:tensorflow:Assets written to: ./tic-tac-toe/assets\n"
     ]
    },
    {
     "name": "stderr",
     "output_type": "stream",
     "text": [
      "INFO:tensorflow:Assets written to: ./tic-tac-toe/assets\n"
     ]
    },
    {
     "name": "stdout",
     "output_type": "stream",
     "text": [
      "\n",
      "Epoch 76: saving model to ./tic-tac-toe\n",
      "INFO:tensorflow:Assets written to: ./tic-tac-toe/assets\n"
     ]
    },
    {
     "name": "stderr",
     "output_type": "stream",
     "text": [
      "INFO:tensorflow:Assets written to: ./tic-tac-toe/assets\n"
     ]
    },
    {
     "name": "stdout",
     "output_type": "stream",
     "text": [
      "\n",
      "Epoch 77: saving model to ./tic-tac-toe\n",
      "INFO:tensorflow:Assets written to: ./tic-tac-toe/assets\n"
     ]
    },
    {
     "name": "stderr",
     "output_type": "stream",
     "text": [
      "INFO:tensorflow:Assets written to: ./tic-tac-toe/assets\n"
     ]
    },
    {
     "name": "stdout",
     "output_type": "stream",
     "text": [
      "\n",
      "Epoch 78: saving model to ./tic-tac-toe\n",
      "INFO:tensorflow:Assets written to: ./tic-tac-toe/assets\n"
     ]
    },
    {
     "name": "stderr",
     "output_type": "stream",
     "text": [
      "INFO:tensorflow:Assets written to: ./tic-tac-toe/assets\n"
     ]
    },
    {
     "name": "stdout",
     "output_type": "stream",
     "text": [
      "\n",
      "Epoch 79: saving model to ./tic-tac-toe\n",
      "INFO:tensorflow:Assets written to: ./tic-tac-toe/assets\n"
     ]
    },
    {
     "name": "stderr",
     "output_type": "stream",
     "text": [
      "INFO:tensorflow:Assets written to: ./tic-tac-toe/assets\n"
     ]
    },
    {
     "name": "stdout",
     "output_type": "stream",
     "text": [
      "\n",
      "Epoch 80: saving model to ./tic-tac-toe\n",
      "INFO:tensorflow:Assets written to: ./tic-tac-toe/assets\n"
     ]
    },
    {
     "name": "stderr",
     "output_type": "stream",
     "text": [
      "INFO:tensorflow:Assets written to: ./tic-tac-toe/assets\n"
     ]
    },
    {
     "name": "stdout",
     "output_type": "stream",
     "text": [
      "\n",
      "Epoch 81: saving model to ./tic-tac-toe\n",
      "INFO:tensorflow:Assets written to: ./tic-tac-toe/assets\n"
     ]
    },
    {
     "name": "stderr",
     "output_type": "stream",
     "text": [
      "INFO:tensorflow:Assets written to: ./tic-tac-toe/assets\n"
     ]
    },
    {
     "name": "stdout",
     "output_type": "stream",
     "text": [
      "\n",
      "Epoch 82: saving model to ./tic-tac-toe\n",
      "INFO:tensorflow:Assets written to: ./tic-tac-toe/assets\n"
     ]
    },
    {
     "name": "stderr",
     "output_type": "stream",
     "text": [
      "INFO:tensorflow:Assets written to: ./tic-tac-toe/assets\n"
     ]
    },
    {
     "name": "stdout",
     "output_type": "stream",
     "text": [
      "\n",
      "Epoch 83: saving model to ./tic-tac-toe\n",
      "INFO:tensorflow:Assets written to: ./tic-tac-toe/assets\n"
     ]
    },
    {
     "name": "stderr",
     "output_type": "stream",
     "text": [
      "INFO:tensorflow:Assets written to: ./tic-tac-toe/assets\n"
     ]
    },
    {
     "name": "stdout",
     "output_type": "stream",
     "text": [
      "\n",
      "Epoch 84: saving model to ./tic-tac-toe\n",
      "INFO:tensorflow:Assets written to: ./tic-tac-toe/assets\n"
     ]
    },
    {
     "name": "stderr",
     "output_type": "stream",
     "text": [
      "INFO:tensorflow:Assets written to: ./tic-tac-toe/assets\n"
     ]
    },
    {
     "name": "stdout",
     "output_type": "stream",
     "text": [
      "\n",
      "Epoch 85: saving model to ./tic-tac-toe\n",
      "INFO:tensorflow:Assets written to: ./tic-tac-toe/assets\n"
     ]
    },
    {
     "name": "stderr",
     "output_type": "stream",
     "text": [
      "INFO:tensorflow:Assets written to: ./tic-tac-toe/assets\n"
     ]
    },
    {
     "name": "stdout",
     "output_type": "stream",
     "text": [
      "\n",
      "Epoch 86: saving model to ./tic-tac-toe\n",
      "INFO:tensorflow:Assets written to: ./tic-tac-toe/assets\n"
     ]
    },
    {
     "name": "stderr",
     "output_type": "stream",
     "text": [
      "INFO:tensorflow:Assets written to: ./tic-tac-toe/assets\n"
     ]
    },
    {
     "name": "stdout",
     "output_type": "stream",
     "text": [
      "\n",
      "Epoch 87: saving model to ./tic-tac-toe\n",
      "INFO:tensorflow:Assets written to: ./tic-tac-toe/assets\n"
     ]
    },
    {
     "name": "stderr",
     "output_type": "stream",
     "text": [
      "INFO:tensorflow:Assets written to: ./tic-tac-toe/assets\n"
     ]
    },
    {
     "name": "stdout",
     "output_type": "stream",
     "text": [
      "\n",
      "Epoch 88: saving model to ./tic-tac-toe\n",
      "INFO:tensorflow:Assets written to: ./tic-tac-toe/assets\n"
     ]
    },
    {
     "name": "stderr",
     "output_type": "stream",
     "text": [
      "INFO:tensorflow:Assets written to: ./tic-tac-toe/assets\n"
     ]
    },
    {
     "name": "stdout",
     "output_type": "stream",
     "text": [
      "\n",
      "Epoch 89: saving model to ./tic-tac-toe\n",
      "INFO:tensorflow:Assets written to: ./tic-tac-toe/assets\n"
     ]
    },
    {
     "name": "stderr",
     "output_type": "stream",
     "text": [
      "INFO:tensorflow:Assets written to: ./tic-tac-toe/assets\n"
     ]
    },
    {
     "name": "stdout",
     "output_type": "stream",
     "text": [
      "\n",
      "Epoch 90: saving model to ./tic-tac-toe\n",
      "INFO:tensorflow:Assets written to: ./tic-tac-toe/assets\n"
     ]
    },
    {
     "name": "stderr",
     "output_type": "stream",
     "text": [
      "INFO:tensorflow:Assets written to: ./tic-tac-toe/assets\n"
     ]
    },
    {
     "name": "stdout",
     "output_type": "stream",
     "text": [
      "\n",
      "Epoch 91: saving model to ./tic-tac-toe\n",
      "INFO:tensorflow:Assets written to: ./tic-tac-toe/assets\n"
     ]
    },
    {
     "name": "stderr",
     "output_type": "stream",
     "text": [
      "INFO:tensorflow:Assets written to: ./tic-tac-toe/assets\n"
     ]
    },
    {
     "name": "stdout",
     "output_type": "stream",
     "text": [
      "\n",
      "Epoch 92: saving model to ./tic-tac-toe\n",
      "INFO:tensorflow:Assets written to: ./tic-tac-toe/assets\n"
     ]
    },
    {
     "name": "stderr",
     "output_type": "stream",
     "text": [
      "INFO:tensorflow:Assets written to: ./tic-tac-toe/assets\n"
     ]
    },
    {
     "name": "stdout",
     "output_type": "stream",
     "text": [
      "\n",
      "Epoch 93: saving model to ./tic-tac-toe\n",
      "INFO:tensorflow:Assets written to: ./tic-tac-toe/assets\n"
     ]
    },
    {
     "name": "stderr",
     "output_type": "stream",
     "text": [
      "INFO:tensorflow:Assets written to: ./tic-tac-toe/assets\n"
     ]
    },
    {
     "name": "stdout",
     "output_type": "stream",
     "text": [
      "\n",
      "Epoch 94: saving model to ./tic-tac-toe\n",
      "INFO:tensorflow:Assets written to: ./tic-tac-toe/assets\n"
     ]
    },
    {
     "name": "stderr",
     "output_type": "stream",
     "text": [
      "INFO:tensorflow:Assets written to: ./tic-tac-toe/assets\n"
     ]
    },
    {
     "name": "stdout",
     "output_type": "stream",
     "text": [
      "\n",
      "Epoch 95: saving model to ./tic-tac-toe\n",
      "INFO:tensorflow:Assets written to: ./tic-tac-toe/assets\n"
     ]
    },
    {
     "name": "stderr",
     "output_type": "stream",
     "text": [
      "INFO:tensorflow:Assets written to: ./tic-tac-toe/assets\n"
     ]
    },
    {
     "name": "stdout",
     "output_type": "stream",
     "text": [
      "\n",
      "Epoch 96: saving model to ./tic-tac-toe\n",
      "INFO:tensorflow:Assets written to: ./tic-tac-toe/assets\n"
     ]
    },
    {
     "name": "stderr",
     "output_type": "stream",
     "text": [
      "INFO:tensorflow:Assets written to: ./tic-tac-toe/assets\n"
     ]
    },
    {
     "name": "stdout",
     "output_type": "stream",
     "text": [
      "\n",
      "Epoch 97: saving model to ./tic-tac-toe\n",
      "INFO:tensorflow:Assets written to: ./tic-tac-toe/assets\n"
     ]
    },
    {
     "name": "stderr",
     "output_type": "stream",
     "text": [
      "INFO:tensorflow:Assets written to: ./tic-tac-toe/assets\n"
     ]
    },
    {
     "name": "stdout",
     "output_type": "stream",
     "text": [
      "\n",
      "Epoch 98: saving model to ./tic-tac-toe\n",
      "INFO:tensorflow:Assets written to: ./tic-tac-toe/assets\n"
     ]
    },
    {
     "name": "stderr",
     "output_type": "stream",
     "text": [
      "INFO:tensorflow:Assets written to: ./tic-tac-toe/assets\n"
     ]
    },
    {
     "name": "stdout",
     "output_type": "stream",
     "text": [
      "\n",
      "Epoch 99: saving model to ./tic-tac-toe\n",
      "INFO:tensorflow:Assets written to: ./tic-tac-toe/assets\n"
     ]
    },
    {
     "name": "stderr",
     "output_type": "stream",
     "text": [
      "INFO:tensorflow:Assets written to: ./tic-tac-toe/assets\n"
     ]
    },
    {
     "name": "stdout",
     "output_type": "stream",
     "text": [
      "\n",
      "Epoch 100: saving model to ./tic-tac-toe\n",
      "INFO:tensorflow:Assets written to: ./tic-tac-toe/assets\n"
     ]
    },
    {
     "name": "stderr",
     "output_type": "stream",
     "text": [
      "INFO:tensorflow:Assets written to: ./tic-tac-toe/assets\n"
     ]
    },
    {
     "name": "stdout",
     "output_type": "stream",
     "text": [
      "\n",
      "Epoch 101: saving model to ./tic-tac-toe\n",
      "INFO:tensorflow:Assets written to: ./tic-tac-toe/assets\n"
     ]
    },
    {
     "name": "stderr",
     "output_type": "stream",
     "text": [
      "INFO:tensorflow:Assets written to: ./tic-tac-toe/assets\n"
     ]
    },
    {
     "name": "stdout",
     "output_type": "stream",
     "text": [
      "\n",
      "Epoch 102: saving model to ./tic-tac-toe\n",
      "INFO:tensorflow:Assets written to: ./tic-tac-toe/assets\n"
     ]
    },
    {
     "name": "stderr",
     "output_type": "stream",
     "text": [
      "INFO:tensorflow:Assets written to: ./tic-tac-toe/assets\n"
     ]
    },
    {
     "name": "stdout",
     "output_type": "stream",
     "text": [
      "\n",
      "Epoch 103: saving model to ./tic-tac-toe\n",
      "INFO:tensorflow:Assets written to: ./tic-tac-toe/assets\n"
     ]
    },
    {
     "name": "stderr",
     "output_type": "stream",
     "text": [
      "INFO:tensorflow:Assets written to: ./tic-tac-toe/assets\n"
     ]
    },
    {
     "name": "stdout",
     "output_type": "stream",
     "text": [
      "\n",
      "Epoch 104: saving model to ./tic-tac-toe\n",
      "INFO:tensorflow:Assets written to: ./tic-tac-toe/assets\n"
     ]
    },
    {
     "name": "stderr",
     "output_type": "stream",
     "text": [
      "INFO:tensorflow:Assets written to: ./tic-tac-toe/assets\n"
     ]
    },
    {
     "name": "stdout",
     "output_type": "stream",
     "text": [
      "\n",
      "Epoch 105: saving model to ./tic-tac-toe\n",
      "INFO:tensorflow:Assets written to: ./tic-tac-toe/assets\n"
     ]
    },
    {
     "name": "stderr",
     "output_type": "stream",
     "text": [
      "INFO:tensorflow:Assets written to: ./tic-tac-toe/assets\n"
     ]
    },
    {
     "name": "stdout",
     "output_type": "stream",
     "text": [
      "\n",
      "Epoch 106: saving model to ./tic-tac-toe\n",
      "INFO:tensorflow:Assets written to: ./tic-tac-toe/assets\n"
     ]
    },
    {
     "name": "stderr",
     "output_type": "stream",
     "text": [
      "INFO:tensorflow:Assets written to: ./tic-tac-toe/assets\n"
     ]
    },
    {
     "name": "stdout",
     "output_type": "stream",
     "text": [
      "\n",
      "Epoch 107: saving model to ./tic-tac-toe\n",
      "INFO:tensorflow:Assets written to: ./tic-tac-toe/assets\n"
     ]
    },
    {
     "name": "stderr",
     "output_type": "stream",
     "text": [
      "INFO:tensorflow:Assets written to: ./tic-tac-toe/assets\n"
     ]
    },
    {
     "name": "stdout",
     "output_type": "stream",
     "text": [
      "\n",
      "Epoch 108: saving model to ./tic-tac-toe\n",
      "INFO:tensorflow:Assets written to: ./tic-tac-toe/assets\n"
     ]
    },
    {
     "name": "stderr",
     "output_type": "stream",
     "text": [
      "INFO:tensorflow:Assets written to: ./tic-tac-toe/assets\n"
     ]
    },
    {
     "name": "stdout",
     "output_type": "stream",
     "text": [
      "\n",
      "Epoch 109: saving model to ./tic-tac-toe\n",
      "INFO:tensorflow:Assets written to: ./tic-tac-toe/assets\n"
     ]
    },
    {
     "name": "stderr",
     "output_type": "stream",
     "text": [
      "INFO:tensorflow:Assets written to: ./tic-tac-toe/assets\n"
     ]
    },
    {
     "name": "stdout",
     "output_type": "stream",
     "text": [
      "\n",
      "Epoch 110: saving model to ./tic-tac-toe\n",
      "INFO:tensorflow:Assets written to: ./tic-tac-toe/assets\n"
     ]
    },
    {
     "name": "stderr",
     "output_type": "stream",
     "text": [
      "INFO:tensorflow:Assets written to: ./tic-tac-toe/assets\n"
     ]
    },
    {
     "name": "stdout",
     "output_type": "stream",
     "text": [
      "\n",
      "Epoch 111: saving model to ./tic-tac-toe\n",
      "INFO:tensorflow:Assets written to: ./tic-tac-toe/assets\n"
     ]
    },
    {
     "name": "stderr",
     "output_type": "stream",
     "text": [
      "INFO:tensorflow:Assets written to: ./tic-tac-toe/assets\n"
     ]
    },
    {
     "name": "stdout",
     "output_type": "stream",
     "text": [
      "\n",
      "Epoch 112: saving model to ./tic-tac-toe\n",
      "INFO:tensorflow:Assets written to: ./tic-tac-toe/assets\n"
     ]
    },
    {
     "name": "stderr",
     "output_type": "stream",
     "text": [
      "INFO:tensorflow:Assets written to: ./tic-tac-toe/assets\n"
     ]
    },
    {
     "name": "stdout",
     "output_type": "stream",
     "text": [
      "\n",
      "Epoch 113: saving model to ./tic-tac-toe\n",
      "INFO:tensorflow:Assets written to: ./tic-tac-toe/assets\n"
     ]
    },
    {
     "name": "stderr",
     "output_type": "stream",
     "text": [
      "INFO:tensorflow:Assets written to: ./tic-tac-toe/assets\n"
     ]
    },
    {
     "name": "stdout",
     "output_type": "stream",
     "text": [
      "\n",
      "Epoch 114: saving model to ./tic-tac-toe\n",
      "INFO:tensorflow:Assets written to: ./tic-tac-toe/assets\n"
     ]
    },
    {
     "name": "stderr",
     "output_type": "stream",
     "text": [
      "INFO:tensorflow:Assets written to: ./tic-tac-toe/assets\n"
     ]
    },
    {
     "name": "stdout",
     "output_type": "stream",
     "text": [
      "\n",
      "Epoch 115: saving model to ./tic-tac-toe\n",
      "INFO:tensorflow:Assets written to: ./tic-tac-toe/assets\n"
     ]
    },
    {
     "name": "stderr",
     "output_type": "stream",
     "text": [
      "INFO:tensorflow:Assets written to: ./tic-tac-toe/assets\n"
     ]
    },
    {
     "name": "stdout",
     "output_type": "stream",
     "text": [
      "\n",
      "Epoch 116: saving model to ./tic-tac-toe\n",
      "INFO:tensorflow:Assets written to: ./tic-tac-toe/assets\n"
     ]
    },
    {
     "name": "stderr",
     "output_type": "stream",
     "text": [
      "INFO:tensorflow:Assets written to: ./tic-tac-toe/assets\n"
     ]
    },
    {
     "name": "stdout",
     "output_type": "stream",
     "text": [
      "\n",
      "Epoch 117: saving model to ./tic-tac-toe\n",
      "INFO:tensorflow:Assets written to: ./tic-tac-toe/assets\n"
     ]
    },
    {
     "name": "stderr",
     "output_type": "stream",
     "text": [
      "INFO:tensorflow:Assets written to: ./tic-tac-toe/assets\n"
     ]
    },
    {
     "name": "stdout",
     "output_type": "stream",
     "text": [
      "\n",
      "Epoch 118: saving model to ./tic-tac-toe\n",
      "INFO:tensorflow:Assets written to: ./tic-tac-toe/assets\n"
     ]
    },
    {
     "name": "stderr",
     "output_type": "stream",
     "text": [
      "INFO:tensorflow:Assets written to: ./tic-tac-toe/assets\n"
     ]
    },
    {
     "name": "stdout",
     "output_type": "stream",
     "text": [
      "\n",
      "Epoch 119: saving model to ./tic-tac-toe\n",
      "INFO:tensorflow:Assets written to: ./tic-tac-toe/assets\n"
     ]
    },
    {
     "name": "stderr",
     "output_type": "stream",
     "text": [
      "INFO:tensorflow:Assets written to: ./tic-tac-toe/assets\n"
     ]
    },
    {
     "name": "stdout",
     "output_type": "stream",
     "text": [
      "\n",
      "Epoch 120: saving model to ./tic-tac-toe\n",
      "INFO:tensorflow:Assets written to: ./tic-tac-toe/assets\n"
     ]
    },
    {
     "name": "stderr",
     "output_type": "stream",
     "text": [
      "INFO:tensorflow:Assets written to: ./tic-tac-toe/assets\n"
     ]
    },
    {
     "name": "stdout",
     "output_type": "stream",
     "text": [
      "\n",
      "Epoch 121: saving model to ./tic-tac-toe\n",
      "INFO:tensorflow:Assets written to: ./tic-tac-toe/assets\n"
     ]
    },
    {
     "name": "stderr",
     "output_type": "stream",
     "text": [
      "INFO:tensorflow:Assets written to: ./tic-tac-toe/assets\n"
     ]
    },
    {
     "name": "stdout",
     "output_type": "stream",
     "text": [
      "\n",
      "Epoch 122: saving model to ./tic-tac-toe\n",
      "INFO:tensorflow:Assets written to: ./tic-tac-toe/assets\n"
     ]
    },
    {
     "name": "stderr",
     "output_type": "stream",
     "text": [
      "INFO:tensorflow:Assets written to: ./tic-tac-toe/assets\n"
     ]
    },
    {
     "name": "stdout",
     "output_type": "stream",
     "text": [
      "\n",
      "Epoch 123: saving model to ./tic-tac-toe\n",
      "INFO:tensorflow:Assets written to: ./tic-tac-toe/assets\n"
     ]
    },
    {
     "name": "stderr",
     "output_type": "stream",
     "text": [
      "INFO:tensorflow:Assets written to: ./tic-tac-toe/assets\n"
     ]
    },
    {
     "name": "stdout",
     "output_type": "stream",
     "text": [
      "\n",
      "Epoch 124: saving model to ./tic-tac-toe\n",
      "INFO:tensorflow:Assets written to: ./tic-tac-toe/assets\n"
     ]
    },
    {
     "name": "stderr",
     "output_type": "stream",
     "text": [
      "INFO:tensorflow:Assets written to: ./tic-tac-toe/assets\n"
     ]
    },
    {
     "name": "stdout",
     "output_type": "stream",
     "text": [
      "\n",
      "Epoch 125: saving model to ./tic-tac-toe\n",
      "INFO:tensorflow:Assets written to: ./tic-tac-toe/assets\n"
     ]
    },
    {
     "name": "stderr",
     "output_type": "stream",
     "text": [
      "INFO:tensorflow:Assets written to: ./tic-tac-toe/assets\n"
     ]
    },
    {
     "name": "stdout",
     "output_type": "stream",
     "text": [
      "\n",
      "Epoch 126: saving model to ./tic-tac-toe\n",
      "INFO:tensorflow:Assets written to: ./tic-tac-toe/assets\n"
     ]
    },
    {
     "name": "stderr",
     "output_type": "stream",
     "text": [
      "INFO:tensorflow:Assets written to: ./tic-tac-toe/assets\n"
     ]
    },
    {
     "name": "stdout",
     "output_type": "stream",
     "text": [
      "\n",
      "Epoch 127: saving model to ./tic-tac-toe\n",
      "INFO:tensorflow:Assets written to: ./tic-tac-toe/assets\n"
     ]
    },
    {
     "name": "stderr",
     "output_type": "stream",
     "text": [
      "INFO:tensorflow:Assets written to: ./tic-tac-toe/assets\n"
     ]
    },
    {
     "name": "stdout",
     "output_type": "stream",
     "text": [
      "\n",
      "Epoch 128: saving model to ./tic-tac-toe\n",
      "INFO:tensorflow:Assets written to: ./tic-tac-toe/assets\n"
     ]
    },
    {
     "name": "stderr",
     "output_type": "stream",
     "text": [
      "INFO:tensorflow:Assets written to: ./tic-tac-toe/assets\n"
     ]
    },
    {
     "name": "stdout",
     "output_type": "stream",
     "text": [
      "\n",
      "Epoch 129: saving model to ./tic-tac-toe\n",
      "INFO:tensorflow:Assets written to: ./tic-tac-toe/assets\n"
     ]
    },
    {
     "name": "stderr",
     "output_type": "stream",
     "text": [
      "INFO:tensorflow:Assets written to: ./tic-tac-toe/assets\n"
     ]
    },
    {
     "name": "stdout",
     "output_type": "stream",
     "text": [
      "\n",
      "Epoch 130: saving model to ./tic-tac-toe\n",
      "INFO:tensorflow:Assets written to: ./tic-tac-toe/assets\n"
     ]
    },
    {
     "name": "stderr",
     "output_type": "stream",
     "text": [
      "INFO:tensorflow:Assets written to: ./tic-tac-toe/assets\n"
     ]
    },
    {
     "name": "stdout",
     "output_type": "stream",
     "text": [
      "\n",
      "Epoch 131: saving model to ./tic-tac-toe\n",
      "INFO:tensorflow:Assets written to: ./tic-tac-toe/assets\n"
     ]
    },
    {
     "name": "stderr",
     "output_type": "stream",
     "text": [
      "INFO:tensorflow:Assets written to: ./tic-tac-toe/assets\n"
     ]
    },
    {
     "name": "stdout",
     "output_type": "stream",
     "text": [
      "\n",
      "Epoch 132: saving model to ./tic-tac-toe\n",
      "INFO:tensorflow:Assets written to: ./tic-tac-toe/assets\n"
     ]
    },
    {
     "name": "stderr",
     "output_type": "stream",
     "text": [
      "INFO:tensorflow:Assets written to: ./tic-tac-toe/assets\n"
     ]
    },
    {
     "name": "stdout",
     "output_type": "stream",
     "text": [
      "\n",
      "Epoch 133: saving model to ./tic-tac-toe\n",
      "INFO:tensorflow:Assets written to: ./tic-tac-toe/assets\n"
     ]
    },
    {
     "name": "stderr",
     "output_type": "stream",
     "text": [
      "INFO:tensorflow:Assets written to: ./tic-tac-toe/assets\n"
     ]
    },
    {
     "name": "stdout",
     "output_type": "stream",
     "text": [
      "\n",
      "Epoch 134: saving model to ./tic-tac-toe\n",
      "INFO:tensorflow:Assets written to: ./tic-tac-toe/assets\n"
     ]
    },
    {
     "name": "stderr",
     "output_type": "stream",
     "text": [
      "INFO:tensorflow:Assets written to: ./tic-tac-toe/assets\n"
     ]
    },
    {
     "name": "stdout",
     "output_type": "stream",
     "text": [
      "\n",
      "Epoch 135: saving model to ./tic-tac-toe\n",
      "INFO:tensorflow:Assets written to: ./tic-tac-toe/assets\n"
     ]
    },
    {
     "name": "stderr",
     "output_type": "stream",
     "text": [
      "INFO:tensorflow:Assets written to: ./tic-tac-toe/assets\n"
     ]
    },
    {
     "name": "stdout",
     "output_type": "stream",
     "text": [
      "\n",
      "Epoch 136: saving model to ./tic-tac-toe\n",
      "INFO:tensorflow:Assets written to: ./tic-tac-toe/assets\n"
     ]
    },
    {
     "name": "stderr",
     "output_type": "stream",
     "text": [
      "INFO:tensorflow:Assets written to: ./tic-tac-toe/assets\n"
     ]
    },
    {
     "name": "stdout",
     "output_type": "stream",
     "text": [
      "\n",
      "Epoch 137: saving model to ./tic-tac-toe\n",
      "INFO:tensorflow:Assets written to: ./tic-tac-toe/assets\n"
     ]
    },
    {
     "name": "stderr",
     "output_type": "stream",
     "text": [
      "INFO:tensorflow:Assets written to: ./tic-tac-toe/assets\n"
     ]
    },
    {
     "name": "stdout",
     "output_type": "stream",
     "text": [
      "\n",
      "Epoch 138: saving model to ./tic-tac-toe\n",
      "INFO:tensorflow:Assets written to: ./tic-tac-toe/assets\n"
     ]
    },
    {
     "name": "stderr",
     "output_type": "stream",
     "text": [
      "INFO:tensorflow:Assets written to: ./tic-tac-toe/assets\n"
     ]
    },
    {
     "name": "stdout",
     "output_type": "stream",
     "text": [
      "\n",
      "Epoch 139: saving model to ./tic-tac-toe\n",
      "INFO:tensorflow:Assets written to: ./tic-tac-toe/assets\n"
     ]
    },
    {
     "name": "stderr",
     "output_type": "stream",
     "text": [
      "INFO:tensorflow:Assets written to: ./tic-tac-toe/assets\n"
     ]
    },
    {
     "name": "stdout",
     "output_type": "stream",
     "text": [
      "\n",
      "Epoch 140: saving model to ./tic-tac-toe\n",
      "INFO:tensorflow:Assets written to: ./tic-tac-toe/assets\n"
     ]
    },
    {
     "name": "stderr",
     "output_type": "stream",
     "text": [
      "INFO:tensorflow:Assets written to: ./tic-tac-toe/assets\n"
     ]
    },
    {
     "name": "stdout",
     "output_type": "stream",
     "text": [
      "\n",
      "Epoch 141: saving model to ./tic-tac-toe\n",
      "INFO:tensorflow:Assets written to: ./tic-tac-toe/assets\n"
     ]
    },
    {
     "name": "stderr",
     "output_type": "stream",
     "text": [
      "INFO:tensorflow:Assets written to: ./tic-tac-toe/assets\n"
     ]
    },
    {
     "name": "stdout",
     "output_type": "stream",
     "text": [
      "\n",
      "Epoch 142: saving model to ./tic-tac-toe\n",
      "INFO:tensorflow:Assets written to: ./tic-tac-toe/assets\n"
     ]
    },
    {
     "name": "stderr",
     "output_type": "stream",
     "text": [
      "INFO:tensorflow:Assets written to: ./tic-tac-toe/assets\n"
     ]
    },
    {
     "name": "stdout",
     "output_type": "stream",
     "text": [
      "\n",
      "Epoch 143: saving model to ./tic-tac-toe\n",
      "INFO:tensorflow:Assets written to: ./tic-tac-toe/assets\n"
     ]
    },
    {
     "name": "stderr",
     "output_type": "stream",
     "text": [
      "INFO:tensorflow:Assets written to: ./tic-tac-toe/assets\n"
     ]
    },
    {
     "name": "stdout",
     "output_type": "stream",
     "text": [
      "\n",
      "Epoch 144: saving model to ./tic-tac-toe\n",
      "INFO:tensorflow:Assets written to: ./tic-tac-toe/assets\n"
     ]
    },
    {
     "name": "stderr",
     "output_type": "stream",
     "text": [
      "INFO:tensorflow:Assets written to: ./tic-tac-toe/assets\n"
     ]
    },
    {
     "name": "stdout",
     "output_type": "stream",
     "text": [
      "\n",
      "Epoch 145: saving model to ./tic-tac-toe\n",
      "INFO:tensorflow:Assets written to: ./tic-tac-toe/assets\n"
     ]
    },
    {
     "name": "stderr",
     "output_type": "stream",
     "text": [
      "INFO:tensorflow:Assets written to: ./tic-tac-toe/assets\n"
     ]
    },
    {
     "name": "stdout",
     "output_type": "stream",
     "text": [
      "\n",
      "Epoch 146: saving model to ./tic-tac-toe\n",
      "INFO:tensorflow:Assets written to: ./tic-tac-toe/assets\n"
     ]
    },
    {
     "name": "stderr",
     "output_type": "stream",
     "text": [
      "INFO:tensorflow:Assets written to: ./tic-tac-toe/assets\n"
     ]
    },
    {
     "name": "stdout",
     "output_type": "stream",
     "text": [
      "\n",
      "Epoch 147: saving model to ./tic-tac-toe\n",
      "INFO:tensorflow:Assets written to: ./tic-tac-toe/assets\n"
     ]
    },
    {
     "name": "stderr",
     "output_type": "stream",
     "text": [
      "INFO:tensorflow:Assets written to: ./tic-tac-toe/assets\n"
     ]
    },
    {
     "name": "stdout",
     "output_type": "stream",
     "text": [
      "\n",
      "Epoch 148: saving model to ./tic-tac-toe\n",
      "INFO:tensorflow:Assets written to: ./tic-tac-toe/assets\n"
     ]
    },
    {
     "name": "stderr",
     "output_type": "stream",
     "text": [
      "INFO:tensorflow:Assets written to: ./tic-tac-toe/assets\n"
     ]
    },
    {
     "name": "stdout",
     "output_type": "stream",
     "text": [
      "\n",
      "Epoch 149: saving model to ./tic-tac-toe\n",
      "INFO:tensorflow:Assets written to: ./tic-tac-toe/assets\n"
     ]
    },
    {
     "name": "stderr",
     "output_type": "stream",
     "text": [
      "INFO:tensorflow:Assets written to: ./tic-tac-toe/assets\n"
     ]
    },
    {
     "name": "stdout",
     "output_type": "stream",
     "text": [
      "\n",
      "Epoch 150: saving model to ./tic-tac-toe\n",
      "INFO:tensorflow:Assets written to: ./tic-tac-toe/assets\n"
     ]
    },
    {
     "name": "stderr",
     "output_type": "stream",
     "text": [
      "INFO:tensorflow:Assets written to: ./tic-tac-toe/assets\n"
     ]
    },
    {
     "name": "stdout",
     "output_type": "stream",
     "text": [
      "\n",
      "Epoch 151: saving model to ./tic-tac-toe\n",
      "INFO:tensorflow:Assets written to: ./tic-tac-toe/assets\n"
     ]
    },
    {
     "name": "stderr",
     "output_type": "stream",
     "text": [
      "INFO:tensorflow:Assets written to: ./tic-tac-toe/assets\n"
     ]
    },
    {
     "name": "stdout",
     "output_type": "stream",
     "text": [
      "\n",
      "Epoch 152: saving model to ./tic-tac-toe\n",
      "INFO:tensorflow:Assets written to: ./tic-tac-toe/assets\n"
     ]
    },
    {
     "name": "stderr",
     "output_type": "stream",
     "text": [
      "INFO:tensorflow:Assets written to: ./tic-tac-toe/assets\n"
     ]
    },
    {
     "name": "stdout",
     "output_type": "stream",
     "text": [
      "\n",
      "Epoch 153: saving model to ./tic-tac-toe\n",
      "INFO:tensorflow:Assets written to: ./tic-tac-toe/assets\n"
     ]
    },
    {
     "name": "stderr",
     "output_type": "stream",
     "text": [
      "INFO:tensorflow:Assets written to: ./tic-tac-toe/assets\n"
     ]
    },
    {
     "name": "stdout",
     "output_type": "stream",
     "text": [
      "\n",
      "Epoch 154: saving model to ./tic-tac-toe\n",
      "INFO:tensorflow:Assets written to: ./tic-tac-toe/assets\n"
     ]
    },
    {
     "name": "stderr",
     "output_type": "stream",
     "text": [
      "INFO:tensorflow:Assets written to: ./tic-tac-toe/assets\n"
     ]
    }
   ],
   "source": [
    "from keras.callbacks import EarlyStopping\n",
    "\n",
    "early_stopping = EarlyStopping(patience=5)\n",
    "\n",
    "history = model.fit(\n",
    "    X_train,\n",
    "    y_train,\n",
    "    epochs=500, # Number of epochs. The optimal value for this depends heavilly on the dataset and the neural network topology. Try-Error\n",
    "    validation_split=0.30, # Here the TRAIN set will be split in TRAIN = TRAIN_NEW + VALIDATION. TRAIN_NEW used for train and val for CV\n",
    "    #batch_size=32, # How many samples to input in the network before updating the weights\n",
    "    verbose=0, # To display the progress.\n",
    "    callbacks=[early_stopping, checkpoint]\n",
    ")"
   ]
  },
  {
   "cell_type": "code",
   "execution_count": 10,
   "metadata": {},
   "outputs": [
    {
     "name": "stdout",
     "output_type": "stream",
     "text": [
      "9/9 [==============================] - 0s 667us/step - loss: 0.5878 - accuracy: 0.7222\n",
      "Test Loss: 0.5878, Test Accuracy: 0.7222\n"
     ]
    }
   ],
   "source": [
    "test_loss, test_accuracy = model.evaluate(X_test, y_test)\n",
    "\n",
    "print(f'Test Loss: {test_loss:.4f}, Test Accuracy: {test_accuracy:.4f}')"
   ]
  },
  {
   "cell_type": "code",
   "execution_count": 11,
   "metadata": {},
   "outputs": [],
   "source": [
    "from keras.callbacks import History\n",
    "\n",
    "def plot_metric(history: History, metric: str):\n",
    "    '''\n",
    "    Function to plot the training, and validation loss of a neural network during the training.\n",
    "\n",
    "    Inputs:\n",
    "    history: Keras callback with the historical progress\n",
    "\n",
    "    metric: which metric of the training progress we want to plot\n",
    "\n",
    "    Outputs:\n",
    "    None\n",
    "    '''\n",
    "    train_metrics = history.history[metric] # Get the error metric for the TRAIN set\n",
    "    val_metrics = history.history['val_'+metric] # Get the error metric for the VALIDATION set\n",
    "    epochs = range(1, len(train_metrics) + 1) # range(1,6) -> 1,2,3,4,5\n",
    "    plt.plot(epochs, train_metrics)\n",
    "    plt.plot(epochs, val_metrics)\n",
    "    plt.title('Training and validation '+ metric)\n",
    "    plt.xlabel(\"Epochs\")\n",
    "    plt.ylabel(metric)\n",
    "    plt.yscale('log')\n",
    "    plt.legend([\"train_\"+metric, 'val_'+metric])\n",
    "    plt.show()"
   ]
  },
  {
   "cell_type": "code",
   "execution_count": 12,
   "metadata": {},
   "outputs": [
    {
     "data": {
      "image/png": "[encoded data removed]",
      "text/plain": [
       "<Figure size 640x480 with 1 Axes>"
      ]
     },
     "metadata": {},
     "output_type": "display_data"
    }
   ],
   "source": [
    "plot_metric(history,'loss')"
   ]
  },
  {
   "cell_type": "markdown",
   "metadata": {},
   "source": [
    "## Step 3: Make Predictions\n",
    "\n",
    "Now load your saved model and use it to make predictions on a few random rows in the test dataset. Check if the predictions are correct."
   ]
  },
  {
   "cell_type": "code",
   "execution_count": 15,
   "metadata": {},
   "outputs": [],
   "source": [
    "from sklearn.metrics import mean_absolute_error, mean_squared_error, r2_score\n",
    "\n",
    "def model_performance(y_train: np.array, y_pred_train: np.array,\n",
    "                      y_test: np.array, y_pred_test: np.array) -> tuple[pd.DataFrame, pd.DataFrame, pd.DataFrame]:\n",
    "\n",
    "    ME_train = np.mean(y_train-y_pred_train)\n",
    "    ME_test  = np.mean(y_test-y_pred_test)\n",
    "\n",
    "    MAE_train = mean_absolute_error(y_train,y_pred_train)\n",
    "    MAE_test  = mean_absolute_error(y_test,y_pred_test)\n",
    "\n",
    "    MSE_train = mean_squared_error(y_train,y_pred_train)\n",
    "    MSE_test  = mean_squared_error(y_test,y_pred_test)\n",
    "\n",
    "    RMSE_train = np.sqrt(MSE_train)\n",
    "    RMSE_test  = np.sqrt(MSE_test)\n",
    "\n",
    "    MAPE_train = np.mean((np.abs(y_train-y_pred_train) / y_train)* 100.)\n",
    "    MAPE_test  = np.mean((np.abs(y_test-y_pred_test) / y_test)* 100.)\n",
    "\n",
    "    R2_train = r2_score(y_train,y_pred_train)\n",
    "    R2_test  = r2_score(y_test,y_pred_test)\n",
    "\n",
    "    performance = pd.DataFrame({'Error_metric': ['Mean error','Mean absolute error','Mean squared error',\n",
    "                                             'Root mean squared error','Mean absolute percentual error',\n",
    "                                             'R2'],\n",
    "                            'Train': [ME_train, MAE_train, MSE_train, RMSE_train, MAPE_train, R2_train],\n",
    "                            'Test' : [ME_test, MAE_test , MSE_test, RMSE_test, MAPE_test, R2_test]})\n",
    "\n",
    "    pd.options.display.float_format = '{:.3f}'.format\n",
    "\n",
    "    errors_train = y_train-y_pred_train\n",
    "    errors_test = y_test-y_pred_test\n",
    "\n",
    "    df_train = pd.DataFrame({'Real': y_train, 'Predicted': y_pred_train, \"Error\": errors_train})\n",
    "    df_test  = pd.DataFrame({'Real': y_test,  'Predicted': y_pred_test, \"Error\": errors_test})\n",
    "\n",
    "    return performance, df_train, df_test"
   ]
  },
  {
   "cell_type": "code",
   "execution_count": 20,
   "metadata": {},
   "outputs": [
    {
     "name": "stdout",
     "output_type": "stream",
     "text": [
      " 1/21 [>.............................] - ETA: 0s"
     ]
    },
    {
     "name": "stdout",
     "output_type": "stream",
     "text": [
      "21/21 [==============================] - 0s 412us/step\n",
      "9/9 [==============================] - 0s 1ms/step\n"
     ]
    },
    {
     "data": {
      "text/html": [
       "<div>\n",
       "<style scoped>\n",
       "    .dataframe tbody tr th:only-of-type {\n",
       "        vertical-align: middle;\n",
       "    }\n",
       "\n",
       "    .dataframe tbody tr th {\n",
       "        vertical-align: top;\n",
       "    }\n",
       "\n",
       "    .dataframe thead th {\n",
       "        text-align: right;\n",
       "    }\n",
       "</style>\n",
       "<table border=\"1\" class=\"dataframe\">\n",
       "  <thead>\n",
       "    <tr style=\"text-align: right;\">\n",
       "      <th></th>\n",
       "      <th>TL</th>\n",
       "      <th>TM</th>\n",
       "      <th>TR</th>\n",
       "      <th>ML</th>\n",
       "      <th>MM</th>\n",
       "      <th>MR</th>\n",
       "      <th>BL</th>\n",
       "      <th>BM</th>\n",
       "      <th>BR</th>\n",
       "    </tr>\n",
       "  </thead>\n",
       "  <tbody>\n",
       "    <tr>\n",
       "      <th>228</th>\n",
       "      <td>1.003223</td>\n",
       "      <td>-1.419590</td>\n",
       "      <td>1.003223</td>\n",
       "      <td>-0.167318</td>\n",
       "      <td>0.930371</td>\n",
       "      <td>-0.167318</td>\n",
       "      <td>1.003223</td>\n",
       "      <td>-1.419590</td>\n",
       "      <td>-0.286827</td>\n",
       "    </tr>\n",
       "    <tr>\n",
       "      <th>319</th>\n",
       "      <td>-0.286827</td>\n",
       "      <td>1.084953</td>\n",
       "      <td>-0.286827</td>\n",
       "      <td>1.084953</td>\n",
       "      <td>0.930371</td>\n",
       "      <td>1.084953</td>\n",
       "      <td>-0.286827</td>\n",
       "      <td>1.084953</td>\n",
       "      <td>-0.286827</td>\n",
       "    </tr>\n",
       "    <tr>\n",
       "      <th>715</th>\n",
       "      <td>1.003223</td>\n",
       "      <td>-1.419590</td>\n",
       "      <td>1.003223</td>\n",
       "      <td>-1.419590</td>\n",
       "      <td>0.930371</td>\n",
       "      <td>-1.419590</td>\n",
       "      <td>-0.286827</td>\n",
       "      <td>-0.167318</td>\n",
       "      <td>-0.286827</td>\n",
       "    </tr>\n",
       "    <tr>\n",
       "      <th>212</th>\n",
       "      <td>1.003223</td>\n",
       "      <td>-0.167318</td>\n",
       "      <td>-1.576877</td>\n",
       "      <td>-0.167318</td>\n",
       "      <td>0.930371</td>\n",
       "      <td>-1.419590</td>\n",
       "      <td>-0.286827</td>\n",
       "      <td>1.084953</td>\n",
       "      <td>1.003223</td>\n",
       "    </tr>\n",
       "    <tr>\n",
       "      <th>79</th>\n",
       "      <td>1.003223</td>\n",
       "      <td>1.084953</td>\n",
       "      <td>-0.286827</td>\n",
       "      <td>1.084953</td>\n",
       "      <td>-0.420077</td>\n",
       "      <td>1.084953</td>\n",
       "      <td>1.003223</td>\n",
       "      <td>-0.167318</td>\n",
       "      <td>-0.286827</td>\n",
       "    </tr>\n",
       "    <tr>\n",
       "      <th>...</th>\n",
       "      <td>...</td>\n",
       "      <td>...</td>\n",
       "      <td>...</td>\n",
       "      <td>...</td>\n",
       "      <td>...</td>\n",
       "      <td>...</td>\n",
       "      <td>...</td>\n",
       "      <td>...</td>\n",
       "      <td>...</td>\n",
       "    </tr>\n",
       "    <tr>\n",
       "      <th>106</th>\n",
       "      <td>1.003223</td>\n",
       "      <td>1.084953</td>\n",
       "      <td>-1.576877</td>\n",
       "      <td>-0.167318</td>\n",
       "      <td>0.930371</td>\n",
       "      <td>-0.167318</td>\n",
       "      <td>-0.286827</td>\n",
       "      <td>-1.419590</td>\n",
       "      <td>1.003223</td>\n",
       "    </tr>\n",
       "    <tr>\n",
       "      <th>270</th>\n",
       "      <td>1.003223</td>\n",
       "      <td>-1.419590</td>\n",
       "      <td>-0.286827</td>\n",
       "      <td>-1.419590</td>\n",
       "      <td>0.930371</td>\n",
       "      <td>-0.167318</td>\n",
       "      <td>-0.286827</td>\n",
       "      <td>1.084953</td>\n",
       "      <td>1.003223</td>\n",
       "    </tr>\n",
       "    <tr>\n",
       "      <th>860</th>\n",
       "      <td>-0.286827</td>\n",
       "      <td>-1.419590</td>\n",
       "      <td>1.003223</td>\n",
       "      <td>-0.167318</td>\n",
       "      <td>0.930371</td>\n",
       "      <td>-1.419590</td>\n",
       "      <td>-0.286827</td>\n",
       "      <td>-1.419590</td>\n",
       "      <td>1.003223</td>\n",
       "    </tr>\n",
       "    <tr>\n",
       "      <th>435</th>\n",
       "      <td>-0.286827</td>\n",
       "      <td>-1.419590</td>\n",
       "      <td>1.003223</td>\n",
       "      <td>-0.167318</td>\n",
       "      <td>0.930371</td>\n",
       "      <td>-0.167318</td>\n",
       "      <td>1.003223</td>\n",
       "      <td>-1.419590</td>\n",
       "      <td>1.003223</td>\n",
       "    </tr>\n",
       "    <tr>\n",
       "      <th>102</th>\n",
       "      <td>1.003223</td>\n",
       "      <td>1.084953</td>\n",
       "      <td>-1.576877</td>\n",
       "      <td>1.084953</td>\n",
       "      <td>-0.420077</td>\n",
       "      <td>-0.167318</td>\n",
       "      <td>1.003223</td>\n",
       "      <td>-1.419590</td>\n",
       "      <td>-0.286827</td>\n",
       "    </tr>\n",
       "  </tbody>\n",
       "</table>\n",
       "<p>670 rows × 9 columns</p>\n",
       "</div>"
      ],
      "text/plain": [
       "           TL        TM        TR        ML        MM        MR        BL  \\\n",
       "228  1.003223 -1.419590  1.003223 -0.167318  0.930371 -0.167318  1.003223   \n",
       "319 -0.286827  1.084953 -0.286827  1.084953  0.930371  1.084953 -0.286827   \n",
       "715  1.003223 -1.419590  1.003223 -1.419590  0.930371 -1.419590 -0.286827   \n",
       "212  1.003223 -0.167318 -1.576877 -0.167318  0.930371 -1.419590 -0.286827   \n",
       "79   1.003223  1.084953 -0.286827  1.084953 -0.420077  1.084953  1.003223   \n",
       "..        ...       ...       ...       ...       ...       ...       ...   \n",
       "106  1.003223  1.084953 -1.576877 -0.167318  0.930371 -0.167318 -0.286827   \n",
       "270  1.003223 -1.419590 -0.286827 -1.419590  0.930371 -0.167318 -0.286827   \n",
       "860 -0.286827 -1.419590  1.003223 -0.167318  0.930371 -1.419590 -0.286827   \n",
       "435 -0.286827 -1.419590  1.003223 -0.167318  0.930371 -0.167318  1.003223   \n",
       "102  1.003223  1.084953 -1.576877  1.084953 -0.420077 -0.167318  1.003223   \n",
       "\n",
       "           BM        BR  \n",
       "228 -1.419590 -0.286827  \n",
       "319  1.084953 -0.286827  \n",
       "715 -0.167318 -0.286827  \n",
       "212  1.084953  1.003223  \n",
       "79  -0.167318 -0.286827  \n",
       "..        ...       ...  \n",
       "106 -1.419590  1.003223  \n",
       "270  1.084953  1.003223  \n",
       "860 -1.419590  1.003223  \n",
       "435 -1.419590  1.003223  \n",
       "102 -1.419590 -0.286827  \n",
       "\n",
       "[670 rows x 9 columns]"
      ]
     },
     "metadata": {},
     "output_type": "display_data"
    },
    {
     "data": {
      "text/plain": [
       "array([0.00250401, 0.99749595], dtype=float32)"
      ]
     },
     "metadata": {},
     "output_type": "display_data"
    }
   ],
   "source": [
    "y_pred_train_nn1 = model.predict(X_train)\n",
    "y_pred_test_nn1  = model.predict(X_test)\n",
    "\n",
    "display(X_train)\n",
    "display(y_pred_train_nn1[0])\n"
   ]
  },
  {
   "cell_type": "code",
   "execution_count": null,
   "metadata": {},
   "outputs": [],
   "source": [
    "# your code here"
   ]
  },
  {
   "cell_type": "markdown",
   "metadata": {},
   "source": [
    "## Step 4: Improve Your Model\n",
    "\n",
    "Did your model achieve low loss (<0.1) and high accuracy (>0.95)? If not, try to improve your model.\n",
    "\n",
    "But how? There are so many things you can play with in Tensorflow and in the next challenge you'll learn about these things. But in this challenge, let's just do a few things to see if they will help.\n",
    "\n",
    "* Add more layers to your model. If the data are complex you need more layers. But don't use more layers than you need. If adding more layers does not improve the model performance you don't need additional layers.\n",
    "* Adjust the learning rate when you compile the model. This means you will create a custom `tf.keras.optimizers.Adam` instance where you specify the learning rate you want. Then pass the instance to `model.compile` as the optimizer.\n",
    "    * `tf.keras.optimizers.Adam` [reference](https://www.tensorflow.org/api_docs/python/tf/keras/optimizers/Adam).\n",
    "    * Don't worry if you don't understand what the learning rate does. You'll learn about it in the next challenge.\n",
    "* Adjust the number of epochs when you fit the training data to the model. Your model performance continues to improve as you train more epochs. But eventually it will reach the ceiling and the performance will stay the same."
   ]
  },
  {
   "cell_type": "code",
   "execution_count": null,
   "metadata": {},
   "outputs": [],
   "source": [
    "# your code here"
   ]
  },
  {
   "cell_type": "markdown",
   "metadata": {},
   "source": [
    "**Which approach(es) did you find helpful to improve your model performance?**"
   ]
  },
  {
   "cell_type": "markdown",
   "metadata": {},
   "source": [
    "Modified: epochs, optimizer, number of layers, added dropout layers and regularizers but couldn't get to a lower loss / accuracy"
   ]
  },
  {
   "cell_type": "markdown",
   "metadata": {},
   "source": []
  }
 ],
 "metadata": {
  "kernelspec": {
   "display_name": "Python 3",
   "language": "python",
   "name": "python3"
  },
  "language_info": {
   "codemirror_mode": {
    "name": "ipython",
    "version": 3
   },
   "file_extension": ".py",
   "mimetype": "text/x-python",
   "name": "python",
   "nbconvert_exporter": "python",
   "pygments_lexer": "ipython3",
   "version": "3.10.12"
  }
 },
 "nbformat": 4,
 "nbformat_minor": 2
}
